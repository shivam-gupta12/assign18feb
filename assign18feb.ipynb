{
 "cells": [
  {
   "cell_type": "markdown",
   "id": "f92b8bc0-002c-4919-abda-29902818743f",
   "metadata": {},
   "source": [
    "# question 1\n",
    "\n",
    "An application programming interface is a way for two or more computer programs to communicate with each other. It is a type of software interface, offering a service to other pieces of software. API examples--\n",
    "Sharing flight information between airlines and travel sites. Using Google Maps in a rideshare app. Building chatbots in a messaging service. Embedding YouTube videos into a webpage."
   ]
  },
  {
   "cell_type": "markdown",
   "id": "320a6f07-f237-4715-b9c5-e9f6448e865e",
   "metadata": {
    "tags": []
   },
   "source": [
    "#  question 2\n",
    "# Advantages of API--\n",
    "\n",
    "Increased Visibility and Traffic\n",
    "First, it allows you to share your data and functionality with a broader audience, increasing traffic and visibility for your website or app.\n",
    "\n",
    "Seamless Integration\n",
    "It makes it easy to integrate with other applications and services, saving you time and money.\n",
    "\n",
    "Increased Efficiency\n",
    "It allows you to access data and functionality without navigating multiple menus or screens. This can speed up the development process and make your app or website more user-friendly.\n",
    "\n",
    "Easier Maintenance\n",
    "It reduces the amount of work needed on the back-end, making maintenance and updates more effortless and less time-consuming.\n",
    "\n",
    "Reduced Costs AND Improved Customer Experience\n",
    "\n",
    "# Disadvantages of API--\n",
    "\n",
    "Increased Complexity\n",
    "First, they can be complex and challenging to use, making them challenging for novice developers.\n",
    "\n",
    "Limited Functionality\n",
    "They may not have all the functionality you need, requiring additional development work.\n",
    "\n",
    "Dependency on Third Party Services\n",
    "If it depends on a third-party service, your application will also be unavailable.\n",
    "\n",
    "Security and Privacy Risks\n",
    "They can pose security and privacy risks if they’re not implemented correctly. Therefore, it’s essential to carefully consider these risks before using them in your application."
   ]
  },
  {
   "cell_type": "markdown",
   "id": "e38d4c3d-26d7-466f-98d4-3923f2404ae4",
   "metadata": {},
   "source": [
    "# question 3\n",
    "\n",
    "Web API-- is a type of API. They are also called as Web Services. It supports XML. \n",
    "You need a SOAP protocol to send or receive and data over the network. Therefore it does not have light-weight architecture.\n",
    "It can be used by any client who understands XML. Web service uses three styles: REST, SOAP, and XML-RPC for communication.\n",
    "It provides supports only for the HTTP protocol.\n",
    "\n",
    "\n",
    "API--\n",
    "Responses are formatted using Web API’s MediaTypeFormatter into XML, JSON, or any other given format. API has a light-weight architecture.\n",
    "It can be used by a client who understands JSON or XML.\n",
    "API can be used for any style of communication.\n",
    "It provides support for the HTTP/s protocol: URL Request/Response Headers, etc."
   ]
  },
  {
   "cell_type": "markdown",
   "id": "3542c940-39c0-46bc-a631-0e76b780955c",
   "metadata": {},
   "source": [
    "# question 4\n",
    "SOAP is a protocol which was designed before REST and came into the picture. The main idea behind designing SOAP was to ensure that programs built on different platforms and programming languages could exchange data in an easy manner. SOAP stands for Simple Object Access Protocol.\n",
    "\n",
    "REST was designed specifically for working with components such as media components, files, or even objects on a particular hardware device. Any web service that is defined on the principles of REST can be called a RestFul web service. A Restful service would use the normal HTTP verbs of GET, POST, PUT and DELETE for working with the required components. REST stands for Representational State Transfer.\n",
    "\n",
    "Shortcomings of SOAP\n",
    "\n",
    "Highly complex--In comparison to Rest, SOAP is significantly more complex. It's also less flexible. This might present a challenge for developers that are not highly skilled. The extensive processing required may also slow down performance.\n",
    "\n",
    "No variety of data formats--SOAP is also extremely limited in its support of data formats. The formats supported by Rest include HTML, JSON, YAML, XML and others. Meanwhile, SOAP only supports XML.\n",
    "\n",
    "API calls are not cached--The process where a request is sent after an API is set up with the correct endpoints is referred to as an API call. The process results in the information being transferred, processed and feedback being provided. It's not possible for SOAP API calls to be cached.\n",
    "\n",
    "Uses more bandwidth--SOAP is generally slower in comparison to Rest and it also uses more bandwidth given its very complex nature. It’s another limiting factor in the efficacy of this technology for certain projects."
   ]
  },
  {
   "cell_type": "markdown",
   "id": "fa8277cb-235b-4f98-8431-2cef545accb4",
   "metadata": {},
   "source": [
    "# question 5\n",
    "\n",
    "SOAP stands for Simple Object Access Protocol whereas REST stands for Representational State Transfer.\n",
    "SOAP is a protocol whereas REST is an architectural pattern.\n",
    "SOAP uses service interfaces to expose its functionality to client applications while REST uses Uniform Service locators to access to the components on the hardware device.\n",
    "SOAP needs more bandwidth for its usage whereas REST doesn’t need much bandwidth.\n",
    "Comparing SOAP vs REST API, SOAP only works with XML formats whereas REST work with plain text, XML, HTML and JSON.\n",
    "SOAP cannot make use of REST whereas REST can make use of SOAP."
   ]
  },
  {
   "cell_type": "code",
   "execution_count": null,
   "id": "660c8798-376c-49c7-8e2b-0f0d7a191a2e",
   "metadata": {},
   "outputs": [],
   "source": []
  }
 ],
 "metadata": {
  "kernelspec": {
   "display_name": "Python 3 (ipykernel)",
   "language": "python",
   "name": "python3"
  },
  "language_info": {
   "codemirror_mode": {
    "name": "ipython",
    "version": 3
   },
   "file_extension": ".py",
   "mimetype": "text/x-python",
   "name": "python",
   "nbconvert_exporter": "python",
   "pygments_lexer": "ipython3",
   "version": "3.10.8"
  }
 },
 "nbformat": 4,
 "nbformat_minor": 5
}
